{
 "cells": [
  {
   "cell_type": "code",
   "execution_count": 1,
   "id": "6ecdb3c4-9b80-41be-bd58-36506f4a3419",
   "metadata": {},
   "outputs": [
    {
     "name": "stdout",
     "output_type": "stream",
     "text": [
      "Data in the Industrial Data Pool:\n",
      "Sensor ID: 4, Value: 85.74230808091265\n",
      "Sensor ID: 5, Value: 34.883864833158185\n",
      "Sensor ID: 2, Value: 82.40535169342118\n",
      "Sensor ID: 1, Value: 38.82031868388247\n",
      "Sensor ID: 1, Value: 4.3362717434935245\n",
      "Sensor ID: 3, Value: 35.17695116729006\n",
      "Sensor ID: 2, Value: 65.00812979803219\n",
      "Sensor ID: 1, Value: 56.801341035473875\n",
      "Sensor ID: 3, Value: 0.9225846212306821\n",
      "Sensor ID: 2, Value: 39.772774370089614\n",
      "Average value for Sensor 3: 18.05\n"
     ]
    }
   ],
   "source": [
    "import random\n",
    "\n",
    "class IndustrialDataPool:\n",
    "    def __init__(self):\n",
    "        self.data = []\n",
    "\n",
    "    def add_data(self, sensor_id, value):\n",
    "        self.data.append({\"sensor_id\": sensor_id, \"value\": value})\n",
    "\n",
    "    def get_data_by_sensor(self, sensor_id):\n",
    "        return [entry for entry in self.data if entry[\"sensor_id\"] == sensor_id]\n",
    "\n",
    "    def calculate_average_value(self, sensor_id):\n",
    "        sensor_data = self.get_data_by_sensor(sensor_id)\n",
    "        if not sensor_data:\n",
    "            return None\n",
    "        values = [entry[\"value\"] for entry in sensor_data]\n",
    "        return sum(values) / len(values)\n",
    "\n",
    "if __name__ == \"__main__\":\n",
    "    data_pool = IndustrialDataPool()\n",
    "\n",
    "    # Simulate adding data to the pool\n",
    "    for _ in range(10):\n",
    "        sensor_id = random.randint(1, 5)  # Simulate different sensors\n",
    "        value = random.uniform(0.0, 100.0)  # Simulate sensor readings\n",
    "        data_pool.add_data(sensor_id, value)\n",
    "\n",
    "    # Retrieve and print data from the pool\n",
    "    print(\"Data in the Industrial Data Pool:\")\n",
    "    for entry in data_pool.data:\n",
    "        print(f\"Sensor ID: {entry['sensor_id']}, Value: {entry['value']}\")\n",
    "\n",
    "    # Calculate and print the average value for a specific sensor\n",
    "    target_sensor = 3\n",
    "    average_value = data_pool.calculate_average_value(target_sensor)\n",
    "    if average_value is not None:\n",
    "        print(f\"Average value for Sensor {target_sensor}: {average_value:.2f}\")\n",
    "    else:\n",
    "        print(f\"No data available for Sensor {target_sensor}\")\n"
   ]
  },
  {
   "cell_type": "code",
   "execution_count": null,
   "id": "67e0631d-fbd3-4e8a-9ac6-c839dfacc019",
   "metadata": {},
   "outputs": [],
   "source": []
  }
 ],
 "metadata": {
  "kernelspec": {
   "display_name": "Python 3 (ipykernel)",
   "language": "python",
   "name": "python3"
  },
  "language_info": {
   "codemirror_mode": {
    "name": "ipython",
    "version": 3
   },
   "file_extension": ".py",
   "mimetype": "text/x-python",
   "name": "python",
   "nbconvert_exporter": "python",
   "pygments_lexer": "ipython3",
   "version": "3.10.11"
  }
 },
 "nbformat": 4,
 "nbformat_minor": 5
}
